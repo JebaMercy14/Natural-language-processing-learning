{
 "cells": [
  {
   "cell_type": "code",
   "execution_count": 1,
   "id": "eacb8be1",
   "metadata": {
    "_cell_guid": "b1076dfc-b9ad-4769-8c92-a6c4dae69d19",
    "_uuid": "8f2839f25d086af736a60e9eeb907d3b93b6e0e5",
    "execution": {
     "iopub.execute_input": "2023-02-08T11:39:21.233740Z",
     "iopub.status.busy": "2023-02-08T11:39:21.233266Z",
     "iopub.status.idle": "2023-02-08T11:39:21.255369Z",
     "shell.execute_reply": "2023-02-08T11:39:21.254167Z"
    },
    "papermill": {
     "duration": 0.031109,
     "end_time": "2023-02-08T11:39:21.258127",
     "exception": false,
     "start_time": "2023-02-08T11:39:21.227018",
     "status": "completed"
    },
    "tags": []
   },
   "outputs": [
    {
     "name": "stdout",
     "output_type": "stream",
     "text": [
      "/kaggle/input/amazon-cell-phones-reviews/20191226-items.csv\n",
      "/kaggle/input/amazon-cell-phones-reviews/20191226-reviews.csv\n"
     ]
    }
   ],
   "source": [
    "# This Python 3 environment comes with many helpful analytics libraries installed\n",
    "# It is defined by the kaggle/python Docker image: https://github.com/kaggle/docker-python\n",
    "# For example, here's several helpful packages to load\n",
    "\n",
    "import numpy as np # linear algebra\n",
    "import pandas as pd # data processing, CSV file I/O (e.g. pd.read_csv)\n",
    "\n",
    "# Input data files are available in the read-only \"../input/\" directory\n",
    "# For example, running this (by clicking run or pressing Shift+Enter) will list all files under the input directory\n",
    "\n",
    "import os\n",
    "for dirname, _, filenames in os.walk('/kaggle/input'):\n",
    "    for filename in filenames:\n",
    "        print(os.path.join(dirname, filename))\n",
    "\n",
    "# You can write up to 20GB to the current directory (/kaggle/working/) that gets preserved as output when you create a version using \"Save & Run All\" \n",
    "# You can also write temporary files to /kaggle/temp/, but they won't be saved outside of the current session"
   ]
  },
  {
   "cell_type": "code",
   "execution_count": 2,
   "id": "77614b1c",
   "metadata": {
    "execution": {
     "iopub.execute_input": "2023-02-08T11:39:21.267687Z",
     "iopub.status.busy": "2023-02-08T11:39:21.267292Z",
     "iopub.status.idle": "2023-02-08T11:39:22.913869Z",
     "shell.execute_reply": "2023-02-08T11:39:22.912653Z"
    },
    "papermill": {
     "duration": 1.654243,
     "end_time": "2023-02-08T11:39:22.916603",
     "exception": false,
     "start_time": "2023-02-08T11:39:21.262360",
     "status": "completed"
    },
    "tags": []
   },
   "outputs": [],
   "source": [
    "import pandas as pd\n",
    "import seaborn as sns\n",
    "import matplotlib.pyplot as plt\n",
    "from nltk.sentiment.vader import SentimentIntensityAnalyzer\n",
    "sentiments = SentimentIntensityAnalyzer()"
   ]
  },
  {
   "cell_type": "code",
   "execution_count": 3,
   "id": "1e9e73aa",
   "metadata": {
    "execution": {
     "iopub.execute_input": "2023-02-08T11:39:22.925923Z",
     "iopub.status.busy": "2023-02-08T11:39:22.925283Z",
     "iopub.status.idle": "2023-02-08T11:39:23.862703Z",
     "shell.execute_reply": "2023-02-08T11:39:23.861162Z"
    },
    "papermill": {
     "duration": 0.945006,
     "end_time": "2023-02-08T11:39:23.865445",
     "exception": false,
     "start_time": "2023-02-08T11:39:22.920439",
     "status": "completed"
    },
    "tags": []
   },
   "outputs": [
    {
     "name": "stdout",
     "output_type": "stream",
     "text": [
      "         asin           name  rating               date  verified  \\\n",
      "0  B0000SX2UC          Janet       3   October 11, 2005     False   \n",
      "1  B0000SX2UC     Luke Wyatt       1    January 7, 2004     False   \n",
      "2  B0000SX2UC         Brooke       5  December 30, 2003     False   \n",
      "3  B0000SX2UC  amy m. teague       3     March 18, 2004     False   \n",
      "4  B0000SX2UC  tristazbimmer       4    August 28, 2005     False   \n",
      "\n",
      "                                          title  \\\n",
      "0                   Def not best, but not worst   \n",
      "1                   Text Messaging Doesn't Work   \n",
      "2                               Love This Phone   \n",
      "3                       Love the Phone, BUT...!   \n",
      "4  Great phone service and options, lousy case!   \n",
      "\n",
      "                                                body  helpfulVotes  \n",
      "0  I had the Samsung A600 for awhile which is abs...           1.0  \n",
      "1  Due to a software issue between Nokia and Spri...          17.0  \n",
      "2  This is a great, reliable phone. I also purcha...           5.0  \n",
      "3  I love the phone and all, because I really did...           1.0  \n",
      "4  The phone has been great for every purpose it ...           1.0  \n"
     ]
    }
   ],
   "source": [
    "data = pd.read_csv(\"/kaggle/input/amazon-cell-phones-reviews/20191226-reviews.csv\")\n",
    "print(data.head())"
   ]
  },
  {
   "cell_type": "code",
   "execution_count": 4,
   "id": "af7cb0f4",
   "metadata": {
    "execution": {
     "iopub.execute_input": "2023-02-08T11:39:23.874254Z",
     "iopub.status.busy": "2023-02-08T11:39:23.873876Z",
     "iopub.status.idle": "2023-02-08T11:39:23.908381Z",
     "shell.execute_reply": "2023-02-08T11:39:23.906771Z"
    },
    "papermill": {
     "duration": 0.04187,
     "end_time": "2023-02-08T11:39:23.911015",
     "exception": false,
     "start_time": "2023-02-08T11:39:23.869145",
     "status": "completed"
    },
    "tags": []
   },
   "outputs": [
    {
     "name": "stdout",
     "output_type": "stream",
     "text": [
      "             rating  helpfulVotes\n",
      "count  67986.000000  27215.000000\n",
      "mean       3.807916      8.229690\n",
      "std        1.582906     31.954877\n",
      "min        1.000000      1.000000\n",
      "25%        3.000000      1.000000\n",
      "50%        5.000000      2.000000\n",
      "75%        5.000000      5.000000\n",
      "max        5.000000    990.000000\n"
     ]
    }
   ],
   "source": [
    "print(data.describe())"
   ]
  },
  {
   "cell_type": "code",
   "execution_count": 5,
   "id": "36fa1d5e",
   "metadata": {
    "execution": {
     "iopub.execute_input": "2023-02-08T11:39:23.920478Z",
     "iopub.status.busy": "2023-02-08T11:39:23.919311Z",
     "iopub.status.idle": "2023-02-08T11:39:23.975454Z",
     "shell.execute_reply": "2023-02-08T11:39:23.974266Z"
    },
    "papermill": {
     "duration": 0.063104,
     "end_time": "2023-02-08T11:39:23.977870",
     "exception": false,
     "start_time": "2023-02-08T11:39:23.914766",
     "status": "completed"
    },
    "tags": []
   },
   "outputs": [
    {
     "data": {
      "text/html": [
       "<div>\n",
       "<style scoped>\n",
       "    .dataframe tbody tr th:only-of-type {\n",
       "        vertical-align: middle;\n",
       "    }\n",
       "\n",
       "    .dataframe tbody tr th {\n",
       "        vertical-align: top;\n",
       "    }\n",
       "\n",
       "    .dataframe thead th {\n",
       "        text-align: right;\n",
       "    }\n",
       "</style>\n",
       "<table border=\"1\" class=\"dataframe\">\n",
       "  <thead>\n",
       "    <tr style=\"text-align: right;\">\n",
       "      <th></th>\n",
       "      <th>asin</th>\n",
       "      <th>name</th>\n",
       "      <th>rating</th>\n",
       "      <th>date</th>\n",
       "      <th>verified</th>\n",
       "      <th>title</th>\n",
       "      <th>body</th>\n",
       "      <th>helpfulVotes</th>\n",
       "    </tr>\n",
       "  </thead>\n",
       "  <tbody>\n",
       "    <tr>\n",
       "      <th>0</th>\n",
       "      <td>B0000SX2UC</td>\n",
       "      <td>Janet</td>\n",
       "      <td>3</td>\n",
       "      <td>October 11, 2005</td>\n",
       "      <td>False</td>\n",
       "      <td>Def not best, but not worst</td>\n",
       "      <td>I had the Samsung A600 for awhile which is abs...</td>\n",
       "      <td>1.0</td>\n",
       "    </tr>\n",
       "    <tr>\n",
       "      <th>1</th>\n",
       "      <td>B0000SX2UC</td>\n",
       "      <td>Luke Wyatt</td>\n",
       "      <td>1</td>\n",
       "      <td>January 7, 2004</td>\n",
       "      <td>False</td>\n",
       "      <td>Text Messaging Doesn't Work</td>\n",
       "      <td>Due to a software issue between Nokia and Spri...</td>\n",
       "      <td>17.0</td>\n",
       "    </tr>\n",
       "    <tr>\n",
       "      <th>2</th>\n",
       "      <td>B0000SX2UC</td>\n",
       "      <td>Brooke</td>\n",
       "      <td>5</td>\n",
       "      <td>December 30, 2003</td>\n",
       "      <td>False</td>\n",
       "      <td>Love This Phone</td>\n",
       "      <td>This is a great, reliable phone. I also purcha...</td>\n",
       "      <td>5.0</td>\n",
       "    </tr>\n",
       "    <tr>\n",
       "      <th>3</th>\n",
       "      <td>B0000SX2UC</td>\n",
       "      <td>amy m. teague</td>\n",
       "      <td>3</td>\n",
       "      <td>March 18, 2004</td>\n",
       "      <td>False</td>\n",
       "      <td>Love the Phone, BUT...!</td>\n",
       "      <td>I love the phone and all, because I really did...</td>\n",
       "      <td>1.0</td>\n",
       "    </tr>\n",
       "    <tr>\n",
       "      <th>4</th>\n",
       "      <td>B0000SX2UC</td>\n",
       "      <td>tristazbimmer</td>\n",
       "      <td>4</td>\n",
       "      <td>August 28, 2005</td>\n",
       "      <td>False</td>\n",
       "      <td>Great phone service and options, lousy case!</td>\n",
       "      <td>The phone has been great for every purpose it ...</td>\n",
       "      <td>1.0</td>\n",
       "    </tr>\n",
       "    <tr>\n",
       "      <th>...</th>\n",
       "      <td>...</td>\n",
       "      <td>...</td>\n",
       "      <td>...</td>\n",
       "      <td>...</td>\n",
       "      <td>...</td>\n",
       "      <td>...</td>\n",
       "      <td>...</td>\n",
       "      <td>...</td>\n",
       "    </tr>\n",
       "    <tr>\n",
       "      <th>67978</th>\n",
       "      <td>B081H6STQQ</td>\n",
       "      <td>Rock Edge</td>\n",
       "      <td>5</td>\n",
       "      <td>July 16, 2019</td>\n",
       "      <td>False</td>\n",
       "      <td>Candy bar phone is back!</td>\n",
       "      <td>Update 8/14/19 5 stars now! I've been using th...</td>\n",
       "      <td>12.0</td>\n",
       "    </tr>\n",
       "    <tr>\n",
       "      <th>67979</th>\n",
       "      <td>B081H6STQQ</td>\n",
       "      <td>Cindy Cowles</td>\n",
       "      <td>3</td>\n",
       "      <td>July 17, 2019</td>\n",
       "      <td>False</td>\n",
       "      <td>Updated review</td>\n",
       "      <td>Update: If you like sending and receiving pict...</td>\n",
       "      <td>2.0</td>\n",
       "    </tr>\n",
       "    <tr>\n",
       "      <th>67980</th>\n",
       "      <td>B081H6STQQ</td>\n",
       "      <td>Los Kositos</td>\n",
       "      <td>5</td>\n",
       "      <td>October 7, 2019</td>\n",
       "      <td>False</td>\n",
       "      <td>From iPhone to Android and loving it</td>\n",
       "      <td>I love my new phone. I've been dying to do a r...</td>\n",
       "      <td>1.0</td>\n",
       "    </tr>\n",
       "    <tr>\n",
       "      <th>67981</th>\n",
       "      <td>B081H6STQQ</td>\n",
       "      <td>jande</td>\n",
       "      <td>5</td>\n",
       "      <td>August 16, 2019</td>\n",
       "      <td>False</td>\n",
       "      <td>Awesome Phone, but finger scanner is a big mis...</td>\n",
       "      <td>I love the camera on this phone. The screen is...</td>\n",
       "      <td>1.0</td>\n",
       "    </tr>\n",
       "    <tr>\n",
       "      <th>67982</th>\n",
       "      <td>B081H6STQQ</td>\n",
       "      <td>2cool4u</td>\n",
       "      <td>5</td>\n",
       "      <td>September 14, 2019</td>\n",
       "      <td>False</td>\n",
       "      <td>Simply Amazing!</td>\n",
       "      <td>I've been an Xperia user for several years and...</td>\n",
       "      <td>1.0</td>\n",
       "    </tr>\n",
       "  </tbody>\n",
       "</table>\n",
       "<p>27206 rows × 8 columns</p>\n",
       "</div>"
      ],
      "text/plain": [
       "             asin           name  rating                date  verified  \\\n",
       "0      B0000SX2UC          Janet       3    October 11, 2005     False   \n",
       "1      B0000SX2UC     Luke Wyatt       1     January 7, 2004     False   \n",
       "2      B0000SX2UC         Brooke       5   December 30, 2003     False   \n",
       "3      B0000SX2UC  amy m. teague       3      March 18, 2004     False   \n",
       "4      B0000SX2UC  tristazbimmer       4     August 28, 2005     False   \n",
       "...           ...            ...     ...                 ...       ...   \n",
       "67978  B081H6STQQ      Rock Edge       5       July 16, 2019     False   \n",
       "67979  B081H6STQQ   Cindy Cowles       3       July 17, 2019     False   \n",
       "67980  B081H6STQQ    Los Kositos       5     October 7, 2019     False   \n",
       "67981  B081H6STQQ          jande       5     August 16, 2019     False   \n",
       "67982  B081H6STQQ        2cool4u       5  September 14, 2019     False   \n",
       "\n",
       "                                                   title  \\\n",
       "0                            Def not best, but not worst   \n",
       "1                            Text Messaging Doesn't Work   \n",
       "2                                        Love This Phone   \n",
       "3                                Love the Phone, BUT...!   \n",
       "4           Great phone service and options, lousy case!   \n",
       "...                                                  ...   \n",
       "67978                           Candy bar phone is back!   \n",
       "67979                                     Updated review   \n",
       "67980               From iPhone to Android and loving it   \n",
       "67981  Awesome Phone, but finger scanner is a big mis...   \n",
       "67982                                    Simply Amazing!   \n",
       "\n",
       "                                                    body  helpfulVotes  \n",
       "0      I had the Samsung A600 for awhile which is abs...           1.0  \n",
       "1      Due to a software issue between Nokia and Spri...          17.0  \n",
       "2      This is a great, reliable phone. I also purcha...           5.0  \n",
       "3      I love the phone and all, because I really did...           1.0  \n",
       "4      The phone has been great for every purpose it ...           1.0  \n",
       "...                                                  ...           ...  \n",
       "67978  Update 8/14/19 5 stars now! I've been using th...          12.0  \n",
       "67979  Update: If you like sending and receiving pict...           2.0  \n",
       "67980  I love my new phone. I've been dying to do a r...           1.0  \n",
       "67981  I love the camera on this phone. The screen is...           1.0  \n",
       "67982  I've been an Xperia user for several years and...           1.0  \n",
       "\n",
       "[27206 rows x 8 columns]"
      ]
     },
     "execution_count": 5,
     "metadata": {},
     "output_type": "execute_result"
    }
   ],
   "source": [
    "data = data.dropna()\n",
    "data"
   ]
  },
  {
   "cell_type": "code",
   "execution_count": 6,
   "id": "88f4354b",
   "metadata": {
    "execution": {
     "iopub.execute_input": "2023-02-08T11:39:23.987607Z",
     "iopub.status.busy": "2023-02-08T11:39:23.987050Z",
     "iopub.status.idle": "2023-02-08T11:39:23.993763Z",
     "shell.execute_reply": "2023-02-08T11:39:23.992634Z"
    },
    "papermill": {
     "duration": 0.014144,
     "end_time": "2023-02-08T11:39:23.996076",
     "exception": false,
     "start_time": "2023-02-08T11:39:23.981932",
     "status": "completed"
    },
    "tags": []
   },
   "outputs": [],
   "source": [
    "ratings = data[\"rating\"].value_counts()\n",
    "numbers = ratings.index\n",
    "quantity = ratings.values"
   ]
  },
  {
   "cell_type": "code",
   "execution_count": 7,
   "id": "53420e2f",
   "metadata": {
    "execution": {
     "iopub.execute_input": "2023-02-08T11:39:24.005864Z",
     "iopub.status.busy": "2023-02-08T11:39:24.005504Z",
     "iopub.status.idle": "2023-02-08T11:39:24.160868Z",
     "shell.execute_reply": "2023-02-08T11:39:24.159587Z"
    },
    "papermill": {
     "duration": 0.16472,
     "end_time": "2023-02-08T11:39:24.164871",
     "exception": false,
     "start_time": "2023-02-08T11:39:24.000151",
     "status": "completed"
    },
    "tags": []
   },
   "outputs": [
    {
     "data": {
      "image/png": "[encoded data removed]",
      "text/plain": [
       "<Figure size 720x576 with 1 Axes>"
      ]
     },
     "metadata": {},
     "output_type": "display_data"
    }
   ],
   "source": [
    "custom_colors = [\"skyblue\", \"yellowgreen\", 'tomato', \"blue\", \"red\"]\n",
    "plt.figure(figsize=(10, 8))\n",
    "plt.pie(quantity, labels=numbers, colors=custom_colors)\n",
    "central_circle = plt.Circle((0, 0), 0.5, color='white')\n",
    "fig = plt.gcf()\n",
    "fig.gca().add_artist(central_circle)\n",
    "plt.rc('font', size=12)\n",
    "plt.title(\"Product Ratings\", fontsize=20)\n",
    "plt.show()"
   ]
  },
  {
   "cell_type": "code",
   "execution_count": 8,
   "id": "4cd1afec",
   "metadata": {
    "execution": {
     "iopub.execute_input": "2023-02-08T11:39:24.190615Z",
     "iopub.status.busy": "2023-02-08T11:39:24.189022Z",
     "iopub.status.idle": "2023-02-08T11:41:07.027894Z",
     "shell.execute_reply": "2023-02-08T11:41:07.026800Z"
    },
    "papermill": {
     "duration": 102.8584,
     "end_time": "2023-02-08T11:41:07.034443",
     "exception": false,
     "start_time": "2023-02-08T11:39:24.176043",
     "status": "completed"
    },
    "tags": []
   },
   "outputs": [
    {
     "name": "stdout",
     "output_type": "stream",
     "text": [
      "         asin           name  rating               date  verified  \\\n",
      "0  B0000SX2UC          Janet       3   October 11, 2005     False   \n",
      "1  B0000SX2UC     Luke Wyatt       1    January 7, 2004     False   \n",
      "2  B0000SX2UC         Brooke       5  December 30, 2003     False   \n",
      "3  B0000SX2UC  amy m. teague       3     March 18, 2004     False   \n",
      "4  B0000SX2UC  tristazbimmer       4    August 28, 2005     False   \n",
      "\n",
      "                                          title  \\\n",
      "0                   Def not best, but not worst   \n",
      "1                   Text Messaging Doesn't Work   \n",
      "2                               Love This Phone   \n",
      "3                       Love the Phone, BUT...!   \n",
      "4  Great phone service and options, lousy case!   \n",
      "\n",
      "                                                body  helpfulVotes  Positive  \\\n",
      "0  I had the Samsung A600 for awhile which is abs...           1.0     0.105   \n",
      "1  Due to a software issue between Nokia and Spri...          17.0     0.104   \n",
      "2  This is a great, reliable phone. I also purcha...           5.0     0.103   \n",
      "3  I love the phone and all, because I really did...           1.0     0.156   \n",
      "4  The phone has been great for every purpose it ...           1.0     0.121   \n",
      "\n",
      "   Negative  Neutral  \n",
      "0     0.080    0.816  \n",
      "1     0.020    0.876  \n",
      "2     0.051    0.846  \n",
      "3     0.000    0.844  \n",
      "4     0.066    0.814  \n"
     ]
    }
   ],
   "source": [
    "sentiments = SentimentIntensityAnalyzer()\n",
    "data[\"Positive\"] = [sentiments.polarity_scores(i)[\"pos\"] for i in data[\"body\"]]\n",
    "data[\"Negative\"] = [sentiments.polarity_scores(i)[\"neg\"] for i in data[\"body\"]]\n",
    "data[\"Neutral\"] = [sentiments.polarity_scores(i)[\"neu\"] for i in data[\"body\"]]\n",
    "print(data.head())"
   ]
  },
  {
   "cell_type": "code",
   "execution_count": 9,
   "id": "4ad11847",
   "metadata": {
    "execution": {
     "iopub.execute_input": "2023-02-08T11:41:07.045622Z",
     "iopub.status.busy": "2023-02-08T11:41:07.045228Z",
     "iopub.status.idle": "2023-02-08T11:41:07.060740Z",
     "shell.execute_reply": "2023-02-08T11:41:07.059424Z"
    },
    "papermill": {
     "duration": 0.02459,
     "end_time": "2023-02-08T11:41:07.063929",
     "exception": false,
     "start_time": "2023-02-08T11:41:07.039339",
     "status": "completed"
    },
    "tags": []
   },
   "outputs": [
    {
     "name": "stdout",
     "output_type": "stream",
     "text": [
      "Neutral 🙂 \n"
     ]
    }
   ],
   "source": [
    "x = sum(data[\"Positive\"])\n",
    "y = sum(data[\"Negative\"])\n",
    "z = sum(data[\"Neutral\"])\n",
    "\n",
    "def sentiment_score(a, b, c):\n",
    "    if (a>b) and (a>c):\n",
    "        print(\"Positive 😊 \")\n",
    "    elif (b>a) and (b>c):\n",
    "        print(\"Negative 😠 \")\n",
    "    else:\n",
    "        print(\"Neutral 🙂 \")\n",
    "sentiment_score(x, y, z)"
   ]
  },
  {
   "cell_type": "code",
   "execution_count": 10,
   "id": "2405b2eb",
   "metadata": {
    "execution": {
     "iopub.execute_input": "2023-02-08T11:41:07.075593Z",
     "iopub.status.busy": "2023-02-08T11:41:07.075191Z",
     "iopub.status.idle": "2023-02-08T11:41:07.081854Z",
     "shell.execute_reply": "2023-02-08T11:41:07.080558Z"
    },
    "papermill": {
     "duration": 0.015889,
     "end_time": "2023-02-08T11:41:07.085002",
     "exception": false,
     "start_time": "2023-02-08T11:41:07.069113",
     "status": "completed"
    },
    "tags": []
   },
   "outputs": [
    {
     "name": "stdout",
     "output_type": "stream",
     "text": [
      "Positive:  5022.301000000003\n",
      "Negative:  1756.803999999994\n",
      "Neutral:  20417.808000000085\n"
     ]
    }
   ],
   "source": [
    "print(\"Positive: \", x)\n",
    "print(\"Negative: \", y)\n",
    "print(\"Neutral: \", z)"
   ]
  },
  {
   "cell_type": "code",
   "execution_count": null,
   "id": "bd2de0c9",
   "metadata": {
    "papermill": {
     "duration": 0.004588,
     "end_time": "2023-02-08T11:41:07.094664",
     "exception": false,
     "start_time": "2023-02-08T11:41:07.090076",
     "status": "completed"
    },
    "tags": []
   },
   "outputs": [],
   "source": []
  }
 ],
 "metadata": {
  "kernelspec": {
   "display_name": "Python 3",
   "language": "python",
   "name": "python3"
  },
  "language_info": {
   "codemirror_mode": {
    "name": "ipython",
    "version": 3
   },
   "file_extension": ".py",
   "mimetype": "text/x-python",
   "name": "python",
   "nbconvert_exporter": "python",
   "pygments_lexer": "ipython3",
   "version": "3.7.12"
  },
  "papermill": {
   "default_parameters": {},
   "duration": 114.810121,
   "end_time": "2023-02-08T11:41:07.921878",
   "environment_variables": {},
   "exception": null,
   "input_path": "__notebook__.ipynb",
   "output_path": "__notebook__.ipynb",
   "parameters": {},
   "start_time": "2023-02-08T11:39:13.111757",
   "version": "2.3.4"
  }
 },
 "nbformat": 4,
 "nbformat_minor": 5
}
