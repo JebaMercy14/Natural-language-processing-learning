{
 "cells": [
  {
   "cell_type": "code",
   "execution_count": 1,
   "id": "66e65f2d",
   "metadata": {
    "_cell_guid": "b1076dfc-b9ad-4769-8c92-a6c4dae69d19",
    "_uuid": "8f2839f25d086af736a60e9eeb907d3b93b6e0e5",
    "execution": {
     "iopub.execute_input": "2023-02-08T17:19:44.730299Z",
     "iopub.status.busy": "2023-02-08T17:19:44.729739Z",
     "iopub.status.idle": "2023-02-08T17:19:44.757506Z",
     "shell.execute_reply": "2023-02-08T17:19:44.756149Z"
    },
    "papermill": {
     "duration": 0.039778,
     "end_time": "2023-02-08T17:19:44.762772",
     "exception": false,
     "start_time": "2023-02-08T17:19:44.722994",
     "status": "completed"
    },
    "tags": []
   },
   "outputs": [
    {
     "name": "stdout",
     "output_type": "stream",
     "text": [
      "/kaggle/input/whatsappchat/WhatsApp.csv\n"
     ]
    }
   ],
   "source": [
    "# This Python 3 environment comes with many helpful analytics libraries installed\n",
    "# It is defined by the kaggle/python Docker image: https://github.com/kaggle/docker-python\n",
    "# For example, here's several helpful packages to load\n",
    "\n",
    "import numpy as np # linear algebra\n",
    "import pandas as pd # data processing, CSV file I/O (e.g. pd.read_csv)\n",
    "\n",
    "# Input data files are available in the read-only \"../input/\" directory\n",
    "# For example, running this (by clicking run or pressing Shift+Enter) will list all files under the input directory\n",
    "\n",
    "import os\n",
    "for dirname, _, filenames in os.walk('/kaggle/input'):\n",
    "    for filename in filenames:\n",
    "        print(os.path.join(dirname, filename))\n",
    "\n",
    "# You can write up to 20GB to the current directory (/kaggle/working/) that gets preserved as output when you create a version using \"Save & Run All\" \n",
    "# You can also write temporary files to /kaggle/temp/, but they won't be saved outside of the current session"
   ]
  },
  {
   "cell_type": "code",
   "execution_count": 2,
   "id": "a9bc27b0",
   "metadata": {
    "execution": {
     "iopub.execute_input": "2023-02-08T17:19:44.771864Z",
     "iopub.status.busy": "2023-02-08T17:19:44.771376Z",
     "iopub.status.idle": "2023-02-08T17:19:44.799826Z",
     "shell.execute_reply": "2023-02-08T17:19:44.798835Z"
    },
    "papermill": {
     "duration": 0.035865,
     "end_time": "2023-02-08T17:19:44.802683",
     "exception": false,
     "start_time": "2023-02-08T17:19:44.766818",
     "status": "completed"
    },
    "tags": []
   },
   "outputs": [],
   "source": [
    "import re\n",
    "import pandas as pd\n",
    "import numpy as np\n",
    "import emoji"
   ]
  },
  {
   "cell_type": "code",
   "execution_count": 3,
   "id": "6a2241a2",
   "metadata": {
    "execution": {
     "iopub.execute_input": "2023-02-08T17:19:44.810786Z",
     "iopub.status.busy": "2023-02-08T17:19:44.810149Z",
     "iopub.status.idle": "2023-02-08T17:19:44.909999Z",
     "shell.execute_reply": "2023-02-08T17:19:44.908700Z"
    },
    "papermill": {
     "duration": 0.107003,
     "end_time": "2023-02-08T17:19:44.912622",
     "exception": false,
     "start_time": "2023-02-08T17:19:44.805619",
     "status": "completed"
    },
    "tags": []
   },
   "outputs": [
    {
     "data": {
      "text/html": [
       "<div>\n",
       "<style scoped>\n",
       "    .dataframe tbody tr th:only-of-type {\n",
       "        vertical-align: middle;\n",
       "    }\n",
       "\n",
       "    .dataframe tbody tr th {\n",
       "        vertical-align: top;\n",
       "    }\n",
       "\n",
       "    .dataframe thead th {\n",
       "        text-align: right;\n",
       "    }\n",
       "</style>\n",
       "<table border=\"1\" class=\"dataframe\">\n",
       "  <thead>\n",
       "    <tr style=\"text-align: right;\">\n",
       "      <th></th>\n",
       "      <th>user</th>\n",
       "      <th>message</th>\n",
       "      <th>year</th>\n",
       "      <th>month</th>\n",
       "      <th>day</th>\n",
       "      <th>hour</th>\n",
       "      <th>minute</th>\n",
       "    </tr>\n",
       "  </thead>\n",
       "  <tbody>\n",
       "    <tr>\n",
       "      <th>0</th>\n",
       "      <td>group_notification</td>\n",
       "      <td>Messages and calls are end-to-end encrypted. N...</td>\n",
       "      <td>2021</td>\n",
       "      <td>March</td>\n",
       "      <td>27</td>\n",
       "      <td>0</td>\n",
       "      <td>0</td>\n",
       "    </tr>\n",
       "    <tr>\n",
       "      <th>1</th>\n",
       "      <td>group_notification</td>\n",
       "      <td>Group creator created group \"JGEC MECH 2K17-21\"\\n</td>\n",
       "      <td>2018</td>\n",
       "      <td>January</td>\n",
       "      <td>8</td>\n",
       "      <td>16</td>\n",
       "      <td>43</td>\n",
       "    </tr>\n",
       "    <tr>\n",
       "      <th>2</th>\n",
       "      <td>group_notification</td>\n",
       "      <td>You were added\\n</td>\n",
       "      <td>2018</td>\n",
       "      <td>January</td>\n",
       "      <td>8</td>\n",
       "      <td>16</td>\n",
       "      <td>43</td>\n",
       "    </tr>\n",
       "    <tr>\n",
       "      <th>3</th>\n",
       "      <td>+91 95648 92981</td>\n",
       "      <td>Keo clg jabi?\\n</td>\n",
       "      <td>2021</td>\n",
       "      <td>March</td>\n",
       "      <td>26</td>\n",
       "      <td>21</td>\n",
       "      <td>41</td>\n",
       "    </tr>\n",
       "    <tr>\n",
       "      <th>4</th>\n",
       "      <td>+91 6296 534 775</td>\n",
       "      <td>Kobe bol??\\n</td>\n",
       "      <td>2021</td>\n",
       "      <td>March</td>\n",
       "      <td>26</td>\n",
       "      <td>21</td>\n",
       "      <td>46</td>\n",
       "    </tr>\n",
       "    <tr>\n",
       "      <th>...</th>\n",
       "      <td>...</td>\n",
       "      <td>...</td>\n",
       "      <td>...</td>\n",
       "      <td>...</td>\n",
       "      <td>...</td>\n",
       "      <td>...</td>\n",
       "      <td>...</td>\n",
       "    </tr>\n",
       "    <tr>\n",
       "      <th>12407</th>\n",
       "      <td>group_notification</td>\n",
       "      <td>+91 89420 95855 left\\n</td>\n",
       "      <td>2022</td>\n",
       "      <td>August</td>\n",
       "      <td>7</td>\n",
       "      <td>21</td>\n",
       "      <td>41</td>\n",
       "    </tr>\n",
       "    <tr>\n",
       "      <th>12408</th>\n",
       "      <td>+91 79801 55092</td>\n",
       "      <td>Clg e k k gli 8th aug??\\n</td>\n",
       "      <td>2022</td>\n",
       "      <td>August</td>\n",
       "      <td>7</td>\n",
       "      <td>22</td>\n",
       "      <td>2</td>\n",
       "    </tr>\n",
       "    <tr>\n",
       "      <th>12409</th>\n",
       "      <td>+91 70742 49585</td>\n",
       "      <td>আমার আবেগ\\n</td>\n",
       "      <td>2022</td>\n",
       "      <td>August</td>\n",
       "      <td>7</td>\n",
       "      <td>22</td>\n",
       "      <td>15</td>\n",
       "    </tr>\n",
       "    <tr>\n",
       "      <th>12410</th>\n",
       "      <td>+91 79801 55092</td>\n",
       "      <td>Sorry vailog.. nesha hoye g6ilo 😂\\n</td>\n",
       "      <td>2022</td>\n",
       "      <td>August</td>\n",
       "      <td>8</td>\n",
       "      <td>10</td>\n",
       "      <td>16</td>\n",
       "    </tr>\n",
       "    <tr>\n",
       "      <th>12411</th>\n",
       "      <td>+91 70742 49585</td>\n",
       "      <td>🤣\\n</td>\n",
       "      <td>2022</td>\n",
       "      <td>August</td>\n",
       "      <td>8</td>\n",
       "      <td>10</td>\n",
       "      <td>32</td>\n",
       "    </tr>\n",
       "  </tbody>\n",
       "</table>\n",
       "<p>12412 rows × 7 columns</p>\n",
       "</div>"
      ],
      "text/plain": [
       "                     user                                            message  \\\n",
       "0      group_notification  Messages and calls are end-to-end encrypted. N...   \n",
       "1      group_notification  Group creator created group \"JGEC MECH 2K17-21\"\\n   \n",
       "2      group_notification                                   You were added\\n   \n",
       "3         +91 95648 92981                                    Keo clg jabi?\\n   \n",
       "4        +91 6296 534 775                                       Kobe bol??\\n   \n",
       "...                   ...                                                ...   \n",
       "12407  group_notification                             +91 89420 95855 left\\n   \n",
       "12408     +91 79801 55092                          Clg e k k gli 8th aug??\\n   \n",
       "12409     +91 70742 49585                                        আমার আবেগ\\n   \n",
       "12410     +91 79801 55092                Sorry vailog.. nesha hoye g6ilo 😂\\n   \n",
       "12411     +91 70742 49585                                                🤣\\n   \n",
       "\n",
       "       year    month  day  hour  minute  \n",
       "0      2021    March   27     0       0  \n",
       "1      2018  January    8    16      43  \n",
       "2      2018  January    8    16      43  \n",
       "3      2021    March   26    21      41  \n",
       "4      2021    March   26    21      46  \n",
       "...     ...      ...  ...   ...     ...  \n",
       "12407  2022   August    7    21      41  \n",
       "12408  2022   August    7    22       2  \n",
       "12409  2022   August    7    22      15  \n",
       "12410  2022   August    8    10      16  \n",
       "12411  2022   August    8    10      32  \n",
       "\n",
       "[12412 rows x 7 columns]"
      ]
     },
     "execution_count": 3,
     "metadata": {},
     "output_type": "execute_result"
    }
   ],
   "source": [
    "df = pd.read_csv(\"/kaggle/input/whatsappchat/WhatsApp.csv\")\n",
    "df"
   ]
  },
  {
   "cell_type": "code",
   "execution_count": 4,
   "id": "77adda43",
   "metadata": {
    "execution": {
     "iopub.execute_input": "2023-02-08T17:19:44.921390Z",
     "iopub.status.busy": "2023-02-08T17:19:44.920891Z",
     "iopub.status.idle": "2023-02-08T17:19:46.796714Z",
     "shell.execute_reply": "2023-02-08T17:19:46.795681Z"
    },
    "papermill": {
     "duration": 1.883193,
     "end_time": "2023-02-08T17:19:46.799191",
     "exception": false,
     "start_time": "2023-02-08T17:19:44.915998",
     "status": "completed"
    },
    "tags": []
   },
   "outputs": [
    {
     "name": "stdout",
     "output_type": "stream",
     "text": [
      "Empty DataFrame\n",
      "Columns: [Date, Time, Author, Message, Positive, Negative, Neutral]\n",
      "Index: []\n"
     ]
    }
   ],
   "source": [
    "df = pd.DataFrame(df, columns=[\"Date\", 'Time', 'Author', 'Message'])\n",
    "df['Date'] = pd.to_datetime(df['Date'])\n",
    "\n",
    "data = df.dropna()\n",
    "from nltk.sentiment.vader import SentimentIntensityAnalyzer\n",
    "sentiments = SentimentIntensityAnalyzer()\n",
    "data[\"Positive\"] = [sentiments.polarity_scores(i)[\"pos\"] for i in data[\"Message\"]]\n",
    "data[\"Negative\"] = [sentiments.polarity_scores(i)[\"neg\"] for i in data[\"Message\"]]\n",
    "data[\"Neutral\"] = [sentiments.polarity_scores(i)[\"neu\"] for i in data[\"Message\"]]\n",
    "print(data.head())"
   ]
  },
  {
   "cell_type": "code",
   "execution_count": 5,
   "id": "1d5caa44",
   "metadata": {
    "execution": {
     "iopub.execute_input": "2023-02-08T17:19:46.808170Z",
     "iopub.status.busy": "2023-02-08T17:19:46.807160Z",
     "iopub.status.idle": "2023-02-08T17:19:46.815828Z",
     "shell.execute_reply": "2023-02-08T17:19:46.814632Z"
    },
    "papermill": {
     "duration": 0.016159,
     "end_time": "2023-02-08T17:19:46.818651",
     "exception": false,
     "start_time": "2023-02-08T17:19:46.802492",
     "status": "completed"
    },
    "tags": []
   },
   "outputs": [
    {
     "name": "stdout",
     "output_type": "stream",
     "text": [
      "Neutral 🙂 \n"
     ]
    }
   ],
   "source": [
    "x = sum(data[\"Positive\"])\n",
    "y = sum(data[\"Negative\"])\n",
    "z = sum(data[\"Neutral\"])\n",
    "\n",
    "def sentiment_score(a, b, c):\n",
    "    if (a>b) and (a>c):\n",
    "        print(\"Positive 😊 \")\n",
    "    elif (b>a) and (b>c):\n",
    "        print(\"Negative 😠 \")\n",
    "    else:\n",
    "        print(\"Neutral 🙂 \")\n",
    "sentiment_score(x, y, z)"
   ]
  },
  {
   "cell_type": "code",
   "execution_count": null,
   "id": "a92f9715",
   "metadata": {
    "papermill": {
     "duration": 0.003013,
     "end_time": "2023-02-08T17:19:46.825214",
     "exception": false,
     "start_time": "2023-02-08T17:19:46.822201",
     "status": "completed"
    },
    "tags": []
   },
   "outputs": [],
   "source": []
  }
 ],
 "metadata": {
  "kernelspec": {
   "display_name": "Python 3",
   "language": "python",
   "name": "python3"
  },
  "language_info": {
   "codemirror_mode": {
    "name": "ipython",
    "version": 3
   },
   "file_extension": ".py",
   "mimetype": "text/x-python",
   "name": "python",
   "nbconvert_exporter": "python",
   "pygments_lexer": "ipython3",
   "version": "3.7.12"
  },
  "papermill": {
   "default_parameters": {},
   "duration": 13.14342,
   "end_time": "2023-02-08T17:19:47.956225",
   "environment_variables": {},
   "exception": null,
   "input_path": "__notebook__.ipynb",
   "output_path": "__notebook__.ipynb",
   "parameters": {},
   "start_time": "2023-02-08T17:19:34.812805",
   "version": "2.3.4"
  }
 },
 "nbformat": 4,
 "nbformat_minor": 5
}
