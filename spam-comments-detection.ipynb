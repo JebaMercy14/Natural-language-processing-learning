{
 "cells": [
  {
   "cell_type": "code",
   "execution_count": 1,
   "id": "0253eb36",
   "metadata": {
    "_cell_guid": "b1076dfc-b9ad-4769-8c92-a6c4dae69d19",
    "_uuid": "8f2839f25d086af736a60e9eeb907d3b93b6e0e5",
    "execution": {
     "iopub.execute_input": "2023-02-08T15:43:48.285664Z",
     "iopub.status.busy": "2023-02-08T15:43:48.284884Z",
     "iopub.status.idle": "2023-02-08T15:43:48.311588Z",
     "shell.execute_reply": "2023-02-08T15:43:48.310368Z"
    },
    "papermill": {
     "duration": 0.035978,
     "end_time": "2023-02-08T15:43:48.314806",
     "exception": false,
     "start_time": "2023-02-08T15:43:48.278828",
     "status": "completed"
    },
    "tags": []
   },
   "outputs": [
    {
     "name": "stdout",
     "output_type": "stream",
     "text": [
      "/kaggle/input/images/Youtube05-Shakira.csv\n",
      "/kaggle/input/images/Youtube03-LMFAO.csv\n",
      "/kaggle/input/images/Youtube02-KatyPerry.csv\n",
      "/kaggle/input/images/Youtube01-Psy.csv\n",
      "/kaggle/input/images/Youtube04-Eminem.csv\n",
      "/kaggle/input/images/youtube-spam-collection-v1/Youtube05-Shakira.csv\n",
      "/kaggle/input/images/youtube-spam-collection-v1/Youtube03-LMFAO.csv\n",
      "/kaggle/input/images/youtube-spam-collection-v1/Youtube02-KatyPerry.csv\n",
      "/kaggle/input/images/youtube-spam-collection-v1/Youtube01-Psy.csv\n",
      "/kaggle/input/images/youtube-spam-collection-v1/Youtube04-Eminem.csv\n"
     ]
    }
   ],
   "source": [
    "# This Python 3 environment comes with many helpful analytics libraries installed\n",
    "# It is defined by the kaggle/python Docker image: https://github.com/kaggle/docker-python\n",
    "# For example, here's several helpful packages to load\n",
    "\n",
    "import numpy as np # linear algebra\n",
    "import pandas as pd # data processing, CSV file I/O (e.g. pd.read_csv)\n",
    "\n",
    "# Input data files are available in the read-only \"../input/\" directory\n",
    "# For example, running this (by clicking run or pressing Shift+Enter) will list all files under the input directory\n",
    "\n",
    "import os\n",
    "for dirname, _, filenames in os.walk('/kaggle/input'):\n",
    "    for filename in filenames:\n",
    "        print(os.path.join(dirname, filename))\n",
    "\n",
    "# You can write up to 20GB to the current directory (/kaggle/working/) that gets preserved as output when you create a version using \"Save & Run All\" \n",
    "# You can also write temporary files to /kaggle/temp/, but they won't be saved outside of the current session"
   ]
  },
  {
   "cell_type": "code",
   "execution_count": 2,
   "id": "3f238ca5",
   "metadata": {
    "execution": {
     "iopub.execute_input": "2023-02-08T15:43:48.323893Z",
     "iopub.status.busy": "2023-02-08T15:43:48.322795Z",
     "iopub.status.idle": "2023-02-08T15:43:49.516806Z",
     "shell.execute_reply": "2023-02-08T15:43:49.515576Z"
    },
    "papermill": {
     "duration": 1.201158,
     "end_time": "2023-02-08T15:43:49.519450",
     "exception": false,
     "start_time": "2023-02-08T15:43:48.318292",
     "status": "completed"
    },
    "tags": []
   },
   "outputs": [],
   "source": [
    "import pandas as pd\n",
    "import numpy as np\n",
    "from sklearn.feature_extraction.text import CountVectorizer\n",
    "from sklearn.model_selection import train_test_split\n",
    "from sklearn.naive_bayes import BernoulliNB"
   ]
  },
  {
   "cell_type": "code",
   "execution_count": 3,
   "id": "00778542",
   "metadata": {
    "execution": {
     "iopub.execute_input": "2023-02-08T15:43:49.527691Z",
     "iopub.status.busy": "2023-02-08T15:43:49.527281Z",
     "iopub.status.idle": "2023-02-08T15:43:49.563293Z",
     "shell.execute_reply": "2023-02-08T15:43:49.561743Z"
    },
    "papermill": {
     "duration": 0.043001,
     "end_time": "2023-02-08T15:43:49.565864",
     "exception": false,
     "start_time": "2023-02-08T15:43:49.522863",
     "status": "completed"
    },
    "tags": []
   },
   "outputs": [
    {
     "name": "stdout",
     "output_type": "stream",
     "text": [
      "                                COMMENT_ID  \\\n",
      "200    z13yeb25wmevhpg3s22chjtxoszvgxxxl04   \n",
      "184  z131xnjjtqeyh5dy304cfhm50vagttfyemg0k   \n",
      "324    z135zz0xwx2jetyt523mejn40qifw5hjo04   \n",
      "37       z13zj1grjzqhhxzlj23gdpzaovunwnn0f   \n",
      "242    z13vc32olxm2znkjz04cd35gnozjebqhlig   \n",
      "\n",
      "                                         AUTHOR                 DATE  \\\n",
      "200                              funtimekid1199  2014-11-07T14:11:41   \n",
      "184                                 Chack Jason  2014-11-07T04:39:08   \n",
      "324                            Jennifer Isaksen  2014-11-12T15:12:47   \n",
      "37   HamzaMurt | Advanced Warefare | Lets Play!  2014-01-19T17:20:58   \n",
      "242                                TheLegitBroz  2014-11-08T00:26:35   \n",
      "\n",
      "                                               CONTENT  CLASS  \n",
      "200  http://www.twitch.tv/tareko100 Follow him on t...      1  \n",
      "184                                        OPPA &lt;3﻿      0  \n",
      "324  Hahah, juyk! I allways laugh at the part 1:57....      0  \n",
      "37   SUB 4 SUB PLEASE LIKE THIS COMMENT I WANT A SU...      1  \n",
      "242  The Funny Thing Is That this song was made in ...      0  \n"
     ]
    }
   ],
   "source": [
    "data = pd.read_csv(\"/kaggle/input/images/Youtube01-Psy.csv\")\n",
    "print(data.sample(5))"
   ]
  },
  {
   "cell_type": "code",
   "execution_count": 4,
   "id": "e9f865a3",
   "metadata": {
    "execution": {
     "iopub.execute_input": "2023-02-08T15:43:49.574276Z",
     "iopub.status.busy": "2023-02-08T15:43:49.573694Z",
     "iopub.status.idle": "2023-02-08T15:43:49.587406Z",
     "shell.execute_reply": "2023-02-08T15:43:49.586148Z"
    },
    "papermill": {
     "duration": 0.020938,
     "end_time": "2023-02-08T15:43:49.590161",
     "exception": false,
     "start_time": "2023-02-08T15:43:49.569223",
     "status": "completed"
    },
    "tags": []
   },
   "outputs": [
    {
     "name": "stdout",
     "output_type": "stream",
     "text": [
      "                                               CONTENT  CLASS\n",
      "205             2.126.521.750  views!!!!!!!!!!!!!!!!!﻿      0\n",
      "214               Still watching this 2 years later? ﻿      0\n",
      "187           I'm here to check the views.. holy shit﻿      0\n",
      "204    The population of world is more than 7 billion﻿      0\n",
      "329  FOLLOW MY COMPANY ON TWITTER  thanks.  https:/...      1\n"
     ]
    }
   ],
   "source": [
    "data = data[[\"CONTENT\", \"CLASS\"]]\n",
    "print(data.sample(5))"
   ]
  },
  {
   "cell_type": "code",
   "execution_count": 5,
   "id": "f957bc57",
   "metadata": {
    "execution": {
     "iopub.execute_input": "2023-02-08T15:43:49.598432Z",
     "iopub.status.busy": "2023-02-08T15:43:49.598056Z",
     "iopub.status.idle": "2023-02-08T15:43:49.610309Z",
     "shell.execute_reply": "2023-02-08T15:43:49.609217Z"
    },
    "papermill": {
     "duration": 0.019508,
     "end_time": "2023-02-08T15:43:49.613030",
     "exception": false,
     "start_time": "2023-02-08T15:43:49.593522",
     "status": "completed"
    },
    "tags": []
   },
   "outputs": [
    {
     "name": "stdout",
     "output_type": "stream",
     "text": [
      "                                               CONTENT         CLASS\n",
      "347  subscribe to me for call of duty vids and give...  Spam Comment\n",
      "129  Like getting Gift cards..but hate spending the...  Spam Comment\n",
      "95                          Plizz withing my channel ﻿  Spam Comment\n",
      "344  everyones back lool this is almost 3 years old...      Not Spam\n",
      "192  People, here is a new network like FB...you re...  Spam Comment\n"
     ]
    }
   ],
   "source": [
    "data[\"CLASS\"] = data[\"CLASS\"].map({0: \"Not Spam\",1: \"Spam Comment\"})\n",
    "print(data.sample(5))"
   ]
  },
  {
   "cell_type": "code",
   "execution_count": 6,
   "id": "5202013a",
   "metadata": {
    "execution": {
     "iopub.execute_input": "2023-02-08T15:43:49.621690Z",
     "iopub.status.busy": "2023-02-08T15:43:49.620767Z",
     "iopub.status.idle": "2023-02-08T15:43:49.647498Z",
     "shell.execute_reply": "2023-02-08T15:43:49.645747Z"
    },
    "papermill": {
     "duration": 0.03476,
     "end_time": "2023-02-08T15:43:49.651146",
     "exception": false,
     "start_time": "2023-02-08T15:43:49.616386",
     "status": "completed"
    },
    "tags": []
   },
   "outputs": [
    {
     "name": "stdout",
     "output_type": "stream",
     "text": [
      "0.9857142857142858\n"
     ]
    }
   ],
   "source": [
    "#Training a Classification Model\n",
    "x = np.array(data[\"CONTENT\"])\n",
    "y = np.array(data[\"CLASS\"])\n",
    "\n",
    "cv = CountVectorizer()\n",
    "x = cv.fit_transform(x)\n",
    "xtrain, xtest, ytrain, ytest = train_test_split(x, y, test_size=0.2, random_state=42)\n",
    "\n",
    "model = BernoulliNB()\n",
    "model.fit(xtrain, ytrain)\n",
    "print(model.score(xtest, ytest))"
   ]
  },
  {
   "cell_type": "code",
   "execution_count": 7,
   "id": "20c0655a",
   "metadata": {
    "execution": {
     "iopub.execute_input": "2023-02-08T15:43:49.660789Z",
     "iopub.status.busy": "2023-02-08T15:43:49.659828Z",
     "iopub.status.idle": "2023-02-08T15:43:49.668539Z",
     "shell.execute_reply": "2023-02-08T15:43:49.667773Z"
    },
    "papermill": {
     "duration": 0.016754,
     "end_time": "2023-02-08T15:43:49.671761",
     "exception": false,
     "start_time": "2023-02-08T15:43:49.655007",
     "status": "completed"
    },
    "tags": []
   },
   "outputs": [
    {
     "name": "stdout",
     "output_type": "stream",
     "text": [
      "['Spam Comment']\n"
     ]
    }
   ],
   "source": [
    "sample = \"Check this out my youtube channel\" \n",
    "data = cv.transform([sample]).toarray()\n",
    "print(model.predict(data))"
   ]
  },
  {
   "cell_type": "code",
   "execution_count": 8,
   "id": "036131cb",
   "metadata": {
    "execution": {
     "iopub.execute_input": "2023-02-08T15:43:49.681757Z",
     "iopub.status.busy": "2023-02-08T15:43:49.680769Z",
     "iopub.status.idle": "2023-02-08T15:43:49.686862Z",
     "shell.execute_reply": "2023-02-08T15:43:49.686100Z"
    },
    "papermill": {
     "duration": 0.013147,
     "end_time": "2023-02-08T15:43:49.689235",
     "exception": false,
     "start_time": "2023-02-08T15:43:49.676088",
     "status": "completed"
    },
    "tags": []
   },
   "outputs": [
    {
     "name": "stdout",
     "output_type": "stream",
     "text": [
      "['Not Spam']\n"
     ]
    }
   ],
   "source": [
    "sample = \"informative video\" \n",
    "data = cv.transform([sample]).toarray()\n",
    "print(model.predict(data)) "
   ]
  },
  {
   "cell_type": "code",
   "execution_count": null,
   "id": "bbced885",
   "metadata": {
    "papermill": {
     "duration": 0.003147,
     "end_time": "2023-02-08T15:43:49.695839",
     "exception": false,
     "start_time": "2023-02-08T15:43:49.692692",
     "status": "completed"
    },
    "tags": []
   },
   "outputs": [],
   "source": []
  }
 ],
 "metadata": {
  "kernelspec": {
   "display_name": "Python 3",
   "language": "python",
   "name": "python3"
  },
  "language_info": {
   "codemirror_mode": {
    "name": "ipython",
    "version": 3
   },
   "file_extension": ".py",
   "mimetype": "text/x-python",
   "name": "python",
   "nbconvert_exporter": "python",
   "pygments_lexer": "ipython3",
   "version": "3.7.12"
  },
  "papermill": {
   "default_parameters": {},
   "duration": 10.728813,
   "end_time": "2023-02-08T15:43:50.420155",
   "environment_variables": {},
   "exception": null,
   "input_path": "__notebook__.ipynb",
   "output_path": "__notebook__.ipynb",
   "parameters": {},
   "start_time": "2023-02-08T15:43:39.691342",
   "version": "2.3.4"
  }
 },
 "nbformat": 4,
 "nbformat_minor": 5
}
