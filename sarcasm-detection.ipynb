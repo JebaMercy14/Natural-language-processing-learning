{
 "cells": [
  {
   "cell_type": "code",
   "execution_count": 1,
   "id": "0cb35d3b",
   "metadata": {
    "_cell_guid": "b1076dfc-b9ad-4769-8c92-a6c4dae69d19",
    "_uuid": "8f2839f25d086af736a60e9eeb907d3b93b6e0e5",
    "execution": {
     "iopub.execute_input": "2023-02-08T16:04:33.535138Z",
     "iopub.status.busy": "2023-02-08T16:04:33.534560Z",
     "iopub.status.idle": "2023-02-08T16:04:33.559131Z",
     "shell.execute_reply": "2023-02-08T16:04:33.557583Z"
    },
    "papermill": {
     "duration": 0.034176,
     "end_time": "2023-02-08T16:04:33.562173",
     "exception": false,
     "start_time": "2023-02-08T16:04:33.527997",
     "status": "completed"
    },
    "tags": []
   },
   "outputs": [
    {
     "name": "stdout",
     "output_type": "stream",
     "text": [
      "/kaggle/input/news-headlines-dataset-for-sarcasm-detection/Sarcasm_Headlines_Dataset_v2.json\n",
      "/kaggle/input/news-headlines-dataset-for-sarcasm-detection/Sarcasm_Headlines_Dataset.json\n"
     ]
    }
   ],
   "source": [
    "# This Python 3 environment comes with many helpful analytics libraries installed\n",
    "# It is defined by the kaggle/python Docker image: https://github.com/kaggle/docker-python\n",
    "# For example, here's several helpful packages to load\n",
    "\n",
    "import numpy as np # linear algebra\n",
    "import pandas as pd # data processing, CSV file I/O (e.g. pd.read_csv)\n",
    "\n",
    "# Input data files are available in the read-only \"../input/\" directory\n",
    "# For example, running this (by clicking run or pressing Shift+Enter) will list all files under the input directory\n",
    "\n",
    "import os\n",
    "for dirname, _, filenames in os.walk('/kaggle/input'):\n",
    "    for filename in filenames:\n",
    "        print(os.path.join(dirname, filename))\n",
    "\n",
    "# You can write up to 20GB to the current directory (/kaggle/working/) that gets preserved as output when you create a version using \"Save & Run All\" \n",
    "# You can also write temporary files to /kaggle/temp/, but they won't be saved outside of the current session"
   ]
  },
  {
   "cell_type": "code",
   "execution_count": 2,
   "id": "8a8d663a",
   "metadata": {
    "execution": {
     "iopub.execute_input": "2023-02-08T16:04:33.572052Z",
     "iopub.status.busy": "2023-02-08T16:04:33.570733Z",
     "iopub.status.idle": "2023-02-08T16:04:35.111777Z",
     "shell.execute_reply": "2023-02-08T16:04:35.110444Z"
    },
    "papermill": {
     "duration": 1.549878,
     "end_time": "2023-02-08T16:04:35.115605",
     "exception": false,
     "start_time": "2023-02-08T16:04:33.565727",
     "status": "completed"
    },
    "tags": []
   },
   "outputs": [],
   "source": [
    "import pandas as pd\n",
    "import numpy as np\n",
    "from sklearn.feature_extraction.text import CountVectorizer\n",
    "from sklearn.model_selection import train_test_split\n",
    "from sklearn.naive_bayes import BernoulliNB"
   ]
  },
  {
   "cell_type": "code",
   "execution_count": 3,
   "id": "bec0d487",
   "metadata": {
    "execution": {
     "iopub.execute_input": "2023-02-08T16:04:35.125086Z",
     "iopub.status.busy": "2023-02-08T16:04:35.124601Z",
     "iopub.status.idle": "2023-02-08T16:04:35.461701Z",
     "shell.execute_reply": "2023-02-08T16:04:35.460256Z"
    },
    "papermill": {
     "duration": 0.345431,
     "end_time": "2023-02-08T16:04:35.464746",
     "exception": false,
     "start_time": "2023-02-08T16:04:35.119315",
     "status": "completed"
    },
    "tags": []
   },
   "outputs": [
    {
     "name": "stdout",
     "output_type": "stream",
     "text": [
      "                                        article_link  \\\n",
      "0  https://www.huffingtonpost.com/entry/versace-b...   \n",
      "1  https://www.huffingtonpost.com/entry/roseanne-...   \n",
      "2  https://local.theonion.com/mom-starting-to-fea...   \n",
      "3  https://politics.theonion.com/boehner-just-wan...   \n",
      "4  https://www.huffingtonpost.com/entry/jk-rowlin...   \n",
      "\n",
      "                                            headline  is_sarcastic  \n",
      "0  former versace store clerk sues over secret 'b...             0  \n",
      "1  the 'roseanne' revival catches up to our thorn...             0  \n",
      "2  mom starting to fear son's web series closest ...             1  \n",
      "3  boehner just wants wife to listen, not come up...             1  \n",
      "4  j.k. rowling wishes snape happy birthday in th...             0  \n"
     ]
    }
   ],
   "source": [
    "data = pd.read_json(\"/kaggle/input/news-headlines-dataset-for-sarcasm-detection/Sarcasm_Headlines_Dataset.json\", lines=True)\n",
    "print(data.head())"
   ]
  },
  {
   "cell_type": "code",
   "execution_count": 4,
   "id": "c300a48a",
   "metadata": {
    "execution": {
     "iopub.execute_input": "2023-02-08T16:04:35.474544Z",
     "iopub.status.busy": "2023-02-08T16:04:35.474031Z",
     "iopub.status.idle": "2023-02-08T16:04:35.495816Z",
     "shell.execute_reply": "2023-02-08T16:04:35.494316Z"
    },
    "papermill": {
     "duration": 0.030584,
     "end_time": "2023-02-08T16:04:35.499292",
     "exception": false,
     "start_time": "2023-02-08T16:04:35.468708",
     "status": "completed"
    },
    "tags": []
   },
   "outputs": [
    {
     "name": "stdout",
     "output_type": "stream",
     "text": [
      "                                        article_link  \\\n",
      "0  https://www.huffingtonpost.com/entry/versace-b...   \n",
      "1  https://www.huffingtonpost.com/entry/roseanne-...   \n",
      "2  https://local.theonion.com/mom-starting-to-fea...   \n",
      "3  https://politics.theonion.com/boehner-just-wan...   \n",
      "4  https://www.huffingtonpost.com/entry/jk-rowlin...   \n",
      "\n",
      "                                            headline is_sarcastic  \n",
      "0  former versace store clerk sues over secret 'b...  Not Sarcasm  \n",
      "1  the 'roseanne' revival catches up to our thorn...  Not Sarcasm  \n",
      "2  mom starting to fear son's web series closest ...      Sarcasm  \n",
      "3  boehner just wants wife to listen, not come up...      Sarcasm  \n",
      "4  j.k. rowling wishes snape happy birthday in th...  Not Sarcasm  \n"
     ]
    }
   ],
   "source": [
    "data[\"is_sarcastic\"] = data[\"is_sarcastic\"].map({0: \"Not Sarcasm\", 1: \"Sarcasm\"})\n",
    "print(data.head())"
   ]
  },
  {
   "cell_type": "code",
   "execution_count": 5,
   "id": "e84e012c",
   "metadata": {
    "execution": {
     "iopub.execute_input": "2023-02-08T16:04:35.508710Z",
     "iopub.status.busy": "2023-02-08T16:04:35.507970Z",
     "iopub.status.idle": "2023-02-08T16:04:35.944183Z",
     "shell.execute_reply": "2023-02-08T16:04:35.942695Z"
    },
    "papermill": {
     "duration": 0.444663,
     "end_time": "2023-02-08T16:04:35.947682",
     "exception": false,
     "start_time": "2023-02-08T16:04:35.503019",
     "status": "completed"
    },
    "tags": []
   },
   "outputs": [],
   "source": [
    "data = data[[\"headline\", \"is_sarcastic\"]]\n",
    "x = np.array(data[\"headline\"])\n",
    "y = np.array(data[\"is_sarcastic\"])\n",
    "\n",
    "cv = CountVectorizer()\n",
    "X = cv.fit_transform(x) # Fit the Data\n",
    "X_train, X_test, y_train, y_test = train_test_split(X, y, test_size=0.20, random_state=42)"
   ]
  },
  {
   "cell_type": "code",
   "execution_count": 6,
   "id": "49ee080d",
   "metadata": {
    "execution": {
     "iopub.execute_input": "2023-02-08T16:04:35.957775Z",
     "iopub.status.busy": "2023-02-08T16:04:35.957267Z",
     "iopub.status.idle": "2023-02-08T16:04:36.047339Z",
     "shell.execute_reply": "2023-02-08T16:04:36.045336Z"
    },
    "papermill": {
     "duration": 0.098728,
     "end_time": "2023-02-08T16:04:36.050683",
     "exception": false,
     "start_time": "2023-02-08T16:04:35.951955",
     "status": "completed"
    },
    "tags": []
   },
   "outputs": [
    {
     "name": "stdout",
     "output_type": "stream",
     "text": [
      "0.8448146761512542\n"
     ]
    }
   ],
   "source": [
    "#Bernoulli Naive Bayes algorithm to train a model\n",
    "model = BernoulliNB()\n",
    "model.fit(X_train, y_train)\n",
    "print(model.score(X_test, y_test))\n"
   ]
  },
  {
   "cell_type": "code",
   "execution_count": 7,
   "id": "5a2753ad",
   "metadata": {
    "execution": {
     "iopub.execute_input": "2023-02-08T16:04:36.061087Z",
     "iopub.status.busy": "2023-02-08T16:04:36.059929Z",
     "iopub.status.idle": "2023-02-08T16:04:36.074882Z",
     "shell.execute_reply": "2023-02-08T16:04:36.073955Z"
    },
    "papermill": {
     "duration": 0.022742,
     "end_time": "2023-02-08T16:04:36.077360",
     "exception": false,
     "start_time": "2023-02-08T16:04:36.054618",
     "status": "completed"
    },
    "tags": []
   },
   "outputs": [
    {
     "name": "stdout",
     "output_type": "stream",
     "text": [
      "['Not Sarcasm']\n"
     ]
    }
   ],
   "source": [
    "user = \"Engineers lose their job\"\n",
    "data = cv.transform([user]).toarray()\n",
    "output = model.predict(data)\n",
    "print(output)"
   ]
  },
  {
   "cell_type": "code",
   "execution_count": 8,
   "id": "4af622a1",
   "metadata": {
    "execution": {
     "iopub.execute_input": "2023-02-08T16:04:36.087468Z",
     "iopub.status.busy": "2023-02-08T16:04:36.086789Z",
     "iopub.status.idle": "2023-02-08T16:04:36.094860Z",
     "shell.execute_reply": "2023-02-08T16:04:36.093862Z"
    },
    "papermill": {
     "duration": 0.017398,
     "end_time": "2023-02-08T16:04:36.098746",
     "exception": false,
     "start_time": "2023-02-08T16:04:36.081348",
     "status": "completed"
    },
    "tags": []
   },
   "outputs": [
    {
     "name": "stdout",
     "output_type": "stream",
     "text": [
      "['Sarcasm']\n"
     ]
    }
   ],
   "source": [
    "user = \"Cows lose their jobs as milk prices drop\"\n",
    "data = cv.transform([user]).toarray()\n",
    "output = model.predict(data)\n",
    "print(output)"
   ]
  },
  {
   "cell_type": "code",
   "execution_count": null,
   "id": "5a83312c",
   "metadata": {
    "papermill": {
     "duration": 0.00365,
     "end_time": "2023-02-08T16:04:36.107231",
     "exception": false,
     "start_time": "2023-02-08T16:04:36.103581",
     "status": "completed"
    },
    "tags": []
   },
   "outputs": [],
   "source": []
  }
 ],
 "metadata": {
  "kernelspec": {
   "display_name": "Python 3",
   "language": "python",
   "name": "python3"
  },
  "language_info": {
   "codemirror_mode": {
    "name": "ipython",
    "version": 3
   },
   "file_extension": ".py",
   "mimetype": "text/x-python",
   "name": "python",
   "nbconvert_exporter": "python",
   "pygments_lexer": "ipython3",
   "version": "3.7.12"
  },
  "papermill": {
   "default_parameters": {},
   "duration": 15.843847,
   "end_time": "2023-02-08T16:04:37.036554",
   "environment_variables": {},
   "exception": null,
   "input_path": "__notebook__.ipynb",
   "output_path": "__notebook__.ipynb",
   "parameters": {},
   "start_time": "2023-02-08T16:04:21.192707",
   "version": "2.3.4"
  }
 },
 "nbformat": 4,
 "nbformat_minor": 5
}
