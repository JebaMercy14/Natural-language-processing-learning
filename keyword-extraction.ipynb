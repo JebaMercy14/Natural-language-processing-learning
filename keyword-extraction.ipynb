{
 "cells": [
  {
   "cell_type": "code",
   "execution_count": 1,
   "id": "994c834e",
   "metadata": {
    "_cell_guid": "b1076dfc-b9ad-4769-8c92-a6c4dae69d19",
    "_uuid": "8f2839f25d086af736a60e9eeb907d3b93b6e0e5",
    "execution": {
     "iopub.execute_input": "2023-02-17T09:09:49.408868Z",
     "iopub.status.busy": "2023-02-17T09:09:49.408203Z",
     "iopub.status.idle": "2023-02-17T09:09:49.423880Z",
     "shell.execute_reply": "2023-02-17T09:09:49.422912Z"
    },
    "papermill": {
     "duration": 0.023911,
     "end_time": "2023-02-17T09:09:49.426591",
     "exception": false,
     "start_time": "2023-02-17T09:09:49.402680",
     "status": "completed"
    },
    "tags": []
   },
   "outputs": [],
   "source": [
    "# This Python 3 environment comes with many helpful analytics libraries installed\n",
    "# It is defined by the kaggle/python Docker image: https://github.com/kaggle/docker-python\n",
    "# For example, here's several helpful packages to load\n",
    "\n",
    "import numpy as np # linear algebra\n",
    "import pandas as pd # data processing, CSV file I/O (e.g. pd.read_csv)\n",
    "\n",
    "# Input data files are available in the read-only \"../input/\" directory\n",
    "# For example, running this (by clicking run or pressing Shift+Enter) will list all files under the input directory\n",
    "\n",
    "import os\n",
    "for dirname, _, filenames in os.walk('/kaggle/input'):\n",
    "    for filename in filenames:\n",
    "        print(os.path.join(dirname, filename))\n",
    "\n",
    "# You can write up to 20GB to the current directory (/kaggle/working/) that gets preserved as output when you create a version using \"Save & Run All\" \n",
    "# You can also write temporary files to /kaggle/temp/, but they won't be saved outside of the current session"
   ]
  },
  {
   "cell_type": "code",
   "execution_count": 2,
   "id": "3055a8b6",
   "metadata": {
    "execution": {
     "iopub.execute_input": "2023-02-17T09:09:49.433769Z",
     "iopub.status.busy": "2023-02-17T09:09:49.433349Z",
     "iopub.status.idle": "2023-02-17T09:10:03.782559Z",
     "shell.execute_reply": "2023-02-17T09:10:03.781318Z"
    },
    "papermill": {
     "duration": 14.35596,
     "end_time": "2023-02-17T09:10:03.785422",
     "exception": false,
     "start_time": "2023-02-17T09:09:49.429462",
     "status": "completed"
    },
    "tags": []
   },
   "outputs": [
    {
     "name": "stdout",
     "output_type": "stream",
     "text": [
      "Collecting rake-nltk\r\n",
      "  Downloading rake_nltk-1.0.6-py3-none-any.whl (9.1 kB)\r\n",
      "Requirement already satisfied: nltk<4.0.0,>=3.6.2 in /opt/conda/lib/python3.7/site-packages (from rake-nltk) (3.8.1)\r\n",
      "Requirement already satisfied: joblib in /opt/conda/lib/python3.7/site-packages (from nltk<4.0.0,>=3.6.2->rake-nltk) (1.0.1)\r\n",
      "Requirement already satisfied: regex>=2021.8.3 in /opt/conda/lib/python3.7/site-packages (from nltk<4.0.0,>=3.6.2->rake-nltk) (2021.11.10)\r\n",
      "Requirement already satisfied: tqdm in /opt/conda/lib/python3.7/site-packages (from nltk<4.0.0,>=3.6.2->rake-nltk) (4.64.0)\r\n",
      "Requirement already satisfied: click in /opt/conda/lib/python3.7/site-packages (from nltk<4.0.0,>=3.6.2->rake-nltk) (8.1.3)\r\n",
      "Requirement already satisfied: importlib-metadata in /opt/conda/lib/python3.7/site-packages (from click->nltk<4.0.0,>=3.6.2->rake-nltk) (6.0.0)\r\n",
      "Requirement already satisfied: zipp>=0.5 in /opt/conda/lib/python3.7/site-packages (from importlib-metadata->click->nltk<4.0.0,>=3.6.2->rake-nltk) (3.8.0)\r\n",
      "Requirement already satisfied: typing-extensions>=3.6.4 in /opt/conda/lib/python3.7/site-packages (from importlib-metadata->click->nltk<4.0.0,>=3.6.2->rake-nltk) (4.1.1)\r\n",
      "Installing collected packages: rake-nltk\r\n",
      "Successfully installed rake-nltk-1.0.6\r\n",
      "\u001b[33mWARNING: Running pip as the 'root' user can result in broken permissions and conflicting behaviour with the system package manager. It is recommended to use a virtual environment instead: https://pip.pypa.io/warnings/venv\u001b[0m\u001b[33m\r\n",
      "\u001b[0m"
     ]
    }
   ],
   "source": [
    "!pip install rake-nltk"
   ]
  },
  {
   "cell_type": "code",
   "execution_count": 3,
   "id": "667ca0f7",
   "metadata": {
    "execution": {
     "iopub.execute_input": "2023-02-17T09:10:03.793617Z",
     "iopub.status.busy": "2023-02-17T09:10:03.793174Z",
     "iopub.status.idle": "2023-02-17T09:10:05.512116Z",
     "shell.execute_reply": "2023-02-17T09:10:05.510823Z"
    },
    "papermill": {
     "duration": 1.726482,
     "end_time": "2023-02-17T09:10:05.515046",
     "exception": false,
     "start_time": "2023-02-17T09:10:03.788564",
     "status": "completed"
    },
    "tags": []
   },
   "outputs": [],
   "source": [
    "from rake_nltk import Rake\n",
    "rake_nltk_var = Rake()"
   ]
  },
  {
   "cell_type": "code",
   "execution_count": 4,
   "id": "0171d3eb",
   "metadata": {
    "execution": {
     "iopub.execute_input": "2023-02-17T09:10:05.522662Z",
     "iopub.status.busy": "2023-02-17T09:10:05.522210Z",
     "iopub.status.idle": "2023-02-17T09:10:05.527258Z",
     "shell.execute_reply": "2023-02-17T09:10:05.526428Z"
    },
    "papermill": {
     "duration": 0.011572,
     "end_time": "2023-02-17T09:10:05.529613",
     "exception": false,
     "start_time": "2023-02-17T09:10:05.518041",
     "status": "completed"
    },
    "tags": []
   },
   "outputs": [],
   "source": [
    "text = \"\"\" I am a programmer from India, and I am here to guide you \n",
    "with Data Science, Machine Learning, Python, and C++ for free. \n",
    "I hope you will learn a lot in your journey towards Coding, \n",
    "Machine Learning and Artificial Intelligence with me.\"\"\""
   ]
  },
  {
   "cell_type": "code",
   "execution_count": 5,
   "id": "e4f3c4ac",
   "metadata": {
    "execution": {
     "iopub.execute_input": "2023-02-17T09:10:05.536970Z",
     "iopub.status.busy": "2023-02-17T09:10:05.536543Z",
     "iopub.status.idle": "2023-02-17T09:10:05.557216Z",
     "shell.execute_reply": "2023-02-17T09:10:05.555475Z"
    },
    "papermill": {
     "duration": 0.027684,
     "end_time": "2023-02-17T09:10:05.560197",
     "exception": false,
     "start_time": "2023-02-17T09:10:05.532513",
     "status": "completed"
    },
    "tags": []
   },
   "outputs": [
    {
     "name": "stdout",
     "output_type": "stream",
     "text": [
      "['journey towards coding', 'machine learning', 'machine learning', 'data science', 'c ++', 'artificial intelligence', 'python', 'programmer', 'lot', 'learn', 'india', 'hope', 'guide', 'free']\n"
     ]
    }
   ],
   "source": [
    "rake_nltk_var.extract_keywords_from_text(text)\n",
    "keyword_extracted = rake_nltk_var.get_ranked_phrases()\n",
    "print(keyword_extracted)"
   ]
  },
  {
   "cell_type": "code",
   "execution_count": null,
   "id": "7fca1ae4",
   "metadata": {
    "papermill": {
     "duration": 0.002634,
     "end_time": "2023-02-17T09:10:05.565878",
     "exception": false,
     "start_time": "2023-02-17T09:10:05.563244",
     "status": "completed"
    },
    "tags": []
   },
   "outputs": [],
   "source": []
  }
 ],
 "metadata": {
  "kernelspec": {
   "display_name": "Python 3",
   "language": "python",
   "name": "python3"
  },
  "language_info": {
   "codemirror_mode": {
    "name": "ipython",
    "version": 3
   },
   "file_extension": ".py",
   "mimetype": "text/x-python",
   "name": "python",
   "nbconvert_exporter": "python",
   "pygments_lexer": "ipython3",
   "version": "3.7.12"
  },
  "papermill": {
   "default_parameters": {},
   "duration": 26.79762,
   "end_time": "2023-02-17T09:10:06.391066",
   "environment_variables": {},
   "exception": null,
   "input_path": "__notebook__.ipynb",
   "output_path": "__notebook__.ipynb",
   "parameters": {},
   "start_time": "2023-02-17T09:09:39.593446",
   "version": "2.3.4"
  }
 },
 "nbformat": 4,
 "nbformat_minor": 5
}
